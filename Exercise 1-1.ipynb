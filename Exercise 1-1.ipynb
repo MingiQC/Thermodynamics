{
 "cells": [
  {
   "cell_type": "markdown",
   "metadata": {},
   "source": [
    "# Chapter 1 Exercise 1-1"
   ]
  },
  {
   "cell_type": "markdown",
   "metadata": {},
   "source": [
    "두 개의 주사위를 동시에 던지는 놀이를 할 때,\n",
    "\n",
    "(가) 나온 눈의 값들이 서로 다를 확률을 구하여라.\n",
    "\n",
    "(나) 나온 눈의 값들의 합이 10이 될 확률을 구하여라."
   ]
  },
  {
   "cell_type": "markdown",
   "metadata": {},
   "source": [
    "(가)"
   ]
  },
  {
   "cell_type": "code",
   "execution_count": 2,
   "metadata": {},
   "outputs": [],
   "source": [
    "from random import *"
   ]
  },
  {
   "cell_type": "code",
   "execution_count": 3,
   "metadata": {},
   "outputs": [],
   "source": [
    "n=100000 # 시행횟수\n",
    "d1=0 # 주사위 1\n",
    "d2=0 # 주사위 2\n",
    "x=0 # 눈의 값이 서로 다른 경우의 수"
   ]
  },
  {
   "cell_type": "code",
   "execution_count": 4,
   "metadata": {},
   "outputs": [],
   "source": [
    "for i in range(n):\n",
    "    d1=randint(1,6)\n",
    "    d2=randint(1,6)\n",
    "    if d1!=d2:\n",
    "        x+=1\n",
    "p1=x/n # 눈의 값이 서로 다를 확률"
   ]
  },
  {
   "cell_type": "code",
   "execution_count": 5,
   "metadata": {},
   "outputs": [
    {
     "name": "stdout",
     "output_type": "stream",
     "text": [
      "The probability is 0.834540\n"
     ]
    }
   ],
   "source": [
    "print(\"The probability is %f\"%p1)"
   ]
  },
  {
   "cell_type": "markdown",
   "metadata": {},
   "source": [
    "(나)"
   ]
  },
  {
   "cell_type": "code",
   "execution_count": 6,
   "metadata": {},
   "outputs": [],
   "source": [
    "y=0 # 눈의 합이 10인 경우"
   ]
  },
  {
   "cell_type": "code",
   "execution_count": 7,
   "metadata": {},
   "outputs": [],
   "source": [
    "for i in range(n):\n",
    "    d1=randint(1,6)\n",
    "    d2=randint(1,6)\n",
    "    if d1+d2==10:\n",
    "        y+=1\n",
    "p2=y/n # 눈의 합이 10일 확률"
   ]
  },
  {
   "cell_type": "code",
   "execution_count": 8,
   "metadata": {},
   "outputs": [
    {
     "name": "stdout",
     "output_type": "stream",
     "text": [
      "The probability is 0.083160\n"
     ]
    }
   ],
   "source": [
    "print(\"The probability is %f\"%p2)"
   ]
  },
  {
   "cell_type": "markdown",
   "metadata": {},
   "source": [
    "[Addition] 주사위 눈의 합에 대한 확률 분포 구하기"
   ]
  },
  {
   "cell_type": "code",
   "execution_count": 9,
   "metadata": {},
   "outputs": [],
   "source": [
    "from matplotlib import pyplot as plt"
   ]
  },
  {
   "cell_type": "code",
   "execution_count": 10,
   "metadata": {},
   "outputs": [],
   "source": [
    "x=list(range(1,14)) # 주사위 눈의 합\n",
    "y=[0,0,0,0,0,0,0,0,0,0,0,0,0] # 각 합의 갯수"
   ]
  },
  {
   "cell_type": "code",
   "execution_count": 11,
   "metadata": {},
   "outputs": [],
   "source": [
    "for i in range(n):\n",
    "    d1=randint(1,6)\n",
    "    d2=randint(1,6)\n",
    "    k=d1+d2\n",
    "    y[k-1]+=1 # range가 0 부터 시작하므로 1을 빼줌.\n",
    "for i in range(13):\n",
    "    y[i]=y[i]/n"
   ]
  },
  {
   "cell_type": "code",
   "execution_count": 12,
   "metadata": {},
   "outputs": [
    {
     "name": "stdout",
     "output_type": "stream",
     "text": [
      "[0.0, 0.02807, 0.05618, 0.0843, 0.11148, 0.13734, 0.16596, 0.13651, 0.11187, 0.08418, 0.05653, 0.02758, 0.0]\n"
     ]
    }
   ],
   "source": [
    "print(y)"
   ]
  },
  {
   "cell_type": "code",
   "execution_count": 13,
   "metadata": {},
   "outputs": [
    {
     "data": {
      "image/png": "[encoded data removed]",
      "text/plain": [
       "<Figure size 432x288 with 1 Axes>"
      ]
     },
     "metadata": {},
     "output_type": "display_data"
    }
   ],
   "source": [
    "plt.plot(x,y)\n",
    "plt.show()"
   ]
  },
  {
   "cell_type": "code",
   "execution_count": null,
   "metadata": {},
   "outputs": [],
   "source": []
  }
 ],
 "metadata": {
  "kernelspec": {
   "display_name": "Python 3",
   "language": "python",
   "name": "python3"
  },
  "language_info": {
   "codemirror_mode": {
    "name": "ipython",
    "version": 3
   },
   "file_extension": ".py",
   "mimetype": "text/x-python",
   "name": "python",
   "nbconvert_exporter": "python",
   "pygments_lexer": "ipython3",
   "version": "3.6.5"
  }
 },
 "nbformat": 4,
 "nbformat_minor": 2
}
