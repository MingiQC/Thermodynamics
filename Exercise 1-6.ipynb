{
 "cells": [
  {
   "cell_type": "markdown",
   "metadata": {},
   "source": [
    "# Chapter 1 Exercise 1-6"
   ]
  },
  {
   "cell_type": "markdown",
   "metadata": {},
   "source": [
    "1차원에서 막 걷는 두 사람이 있다. 원점에서 동시에 출바한 두 사람이 N걸음 후에 다시 만날 확률을 구하여라."
   ]
  },
  {
   "cell_type": "code",
   "execution_count": 1,
   "metadata": {},
   "outputs": [],
   "source": [
    "from numpy import random as rd"
   ]
  },
  {
   "cell_type": "markdown",
   "metadata": {},
   "source": [
    "우선 각 걸음의 확률이 1/2인 경우를 생각해보자."
   ]
  },
  {
   "cell_type": "code",
   "execution_count": 2,
   "metadata": {},
   "outputs": [],
   "source": [
    "p1=1/2\n",
    "p2=1/2\n",
    "n=100\n",
    "N=1000\n",
    "x=0"
   ]
  },
  {
   "cell_type": "markdown",
   "metadata": {},
   "source": [
    "두개의 binomial을 만들고 이들의 일치수를 전체 시행회수(걸음수)로 나누면 만날 확률을 구할 수 있다."
   ]
  },
  {
   "cell_type": "code",
   "execution_count": 7,
   "metadata": {},
   "outputs": [
    {
     "name": "stdout",
     "output_type": "stream",
     "text": [
      "0.0523\n"
     ]
    }
   ],
   "source": [
    "s1 = rd.binomial(n,p1,N)\n",
    "s2 = rd.binomial(n,p2,N)\n",
    "for i in range(N):\n",
    "    if s1[i]==s2[i]:\n",
    "        x+=1\n",
    "print(x/N)"
   ]
  },
  {
   "cell_type": "markdown",
   "metadata": {},
   "source": [
    "시행 binomial의 표본수를 증가시키면 더 정확도가 높은 결과를 얻을 수 있다. "
   ]
  },
  {
   "cell_type": "code",
   "execution_count": 8,
   "metadata": {},
   "outputs": [],
   "source": [
    "n=10000\n",
    "N=1000\n",
    "x=0"
   ]
  },
  {
   "cell_type": "code",
   "execution_count": 9,
   "metadata": {},
   "outputs": [
    {
     "name": "stdout",
     "output_type": "stream",
     "text": [
      "0.006\n"
     ]
    }
   ],
   "source": [
    "s1 = rd.binomial(n,p1,N)\n",
    "s2 = rd.binomial(n,p2,N)\n",
    "for i in range(N):\n",
    "    if s1[i]==s2[i]:\n",
    "        x+=1\n",
    "print(x/N)"
   ]
  },
  {
   "cell_type": "markdown",
   "metadata": {},
   "source": [
    "걸음수가 증가할 경우, 만날 확률이 낮아지는 것을 확인할 수 있다."
   ]
  },
  {
   "cell_type": "code",
   "execution_count": 10,
   "metadata": {},
   "outputs": [],
   "source": [
    "n=100\n",
    "N=10000\n",
    "x=0"
   ]
  },
  {
   "cell_type": "code",
   "execution_count": 72,
   "metadata": {},
   "outputs": [
    {
     "name": "stdout",
     "output_type": "stream",
     "text": [
      "0.0065\n"
     ]
    }
   ],
   "source": [
    "s1 = rd.binomial(n,p1,N)\n",
    "s2 = rd.binomial(n,p2,N)\n",
    "for i in range(N):\n",
    "    if s1[i]==s2[i]:\n",
    "        x+=1\n",
    "print(x/N)"
   ]
  },
  {
   "cell_type": "markdown",
   "metadata": {},
   "source": [
    "한 사람의 걸음의 확률(왼쪽인지 오른쪽인지)이 변화함에 따라서 만날 확률의 분포를 구해보자."
   ]
  },
  {
   "cell_type": "code",
   "execution_count": 151,
   "metadata": {},
   "outputs": [],
   "source": [
    "from matplotlib import pyplot as plt\n",
    "from math import factorial\n",
    "from time import time"
   ]
  },
  {
   "cell_type": "markdown",
   "metadata": {},
   "source": [
    "이때 우리는 결과를 도출할때까지 걸리는 시간 또한 구해볼 것이다."
   ]
  },
  {
   "cell_type": "code",
   "execution_count": 181,
   "metadata": {},
   "outputs": [],
   "source": [
    "p1=0.01\n",
    "p2=1/2\n",
    "n=100\n",
    "N=10000\n",
    "px=[]\n",
    "py=[]"
   ]
  },
  {
   "cell_type": "code",
   "execution_count": 171,
   "metadata": {},
   "outputs": [],
   "source": [
    "start=time()\n",
    "while p1<1:\n",
    "    x=0\n",
    "    s1 = rd.binomial(n,p1,N)\n",
    "    s2 = rd.binomial(n,p2,N)\n",
    "    for i in range(N):\n",
    "        if s1[i]==s2[i]:\n",
    "            x+=1\n",
    "    px.append(p1)\n",
    "    py.append(x)\n",
    "    p1+=0.01\n",
    "delay=time()-start"
   ]
  },
  {
   "cell_type": "code",
   "execution_count": 172,
   "metadata": {},
   "outputs": [
    {
     "data": {
      "image/png": "[encoded data removed]",
      "text/plain": [
       "<Figure size 432x288 with 1 Axes>"
      ]
     },
     "metadata": {},
     "output_type": "display_data"
    },
    {
     "name": "stdout",
     "output_type": "stream",
     "text": [
      "1.7106778621673584\n"
     ]
    }
   ],
   "source": [
    "plt.plot(px,py)\n",
    "plt.show()\n",
    "print(delay)"
   ]
  },
  {
   "cell_type": "markdown",
   "metadata": {},
   "source": [
    "이제 이론값을 직접 대입해서 비교해보자. 이론값은 알짜 걸음수가 같을 확률을 모두 더해서 구할 수 있다."
   ]
  },
  {
   "cell_type": "code",
   "execution_count": 188,
   "metadata": {},
   "outputs": [],
   "source": [
    "p1=0.01\n",
    "ppx=[]\n",
    "ppy=[]"
   ]
  },
  {
   "cell_type": "code",
   "execution_count": 189,
   "metadata": {},
   "outputs": [],
   "source": [
    "start=time()\n",
    "while p1<1:\n",
    "    x=0\n",
    "    for i in range(n):\n",
    "        x+=factorial(n)/(factorial(n-i)*factorial(i))*p1**i*(1-p1)**(n-i)*factorial(n)/(factorial(n-i)*factorial(i))*p2**i*(1-p2)**(n-i)\n",
    "    ppx.append(p1)\n",
    "    ppy.append(x)\n",
    "    p1+=0.01\n",
    "delay=time()-start"
   ]
  },
  {
   "cell_type": "code",
   "execution_count": 190,
   "metadata": {},
   "outputs": [
    {
     "data": {
      "image/png": "[encoded data removed]",
      "text/plain": [
       "<Figure size 432x288 with 1 Axes>"
      ]
     },
     "metadata": {},
     "output_type": "display_data"
    },
    {
     "name": "stdout",
     "output_type": "stream",
     "text": [
      "0.35897326469421387\n"
     ]
    }
   ],
   "source": [
    "plt.plot(ppx,ppy,\"r\")\n",
    "plt.show()\n",
    "print(delay)"
   ]
  },
  {
   "cell_type": "markdown",
   "metadata": {},
   "source": [
    "이때 위의 그래프와 비교하였을 때, 직접 binomial 함수를 활용하여 계산했을 경우, 그래프의 형태가 약간 어긋나며 계산 속도 또한 느린것을 확인 할 수 있었다. 이때 그래프의 형태를 조금 더 이론값과 유사하게 만들기 위해서는 binomial의 표본수를 증가시키면 된다."
   ]
  },
  {
   "cell_type": "code",
   "execution_count": 194,
   "metadata": {},
   "outputs": [
    {
     "data": {
      "image/png": "[encoded data removed]",
      "text/plain": [
       "<Figure size 432x288 with 1 Axes>"
      ]
     },
     "metadata": {},
     "output_type": "display_data"
    },
    {
     "name": "stdout",
     "output_type": "stream",
     "text": [
      "17.316251039505005\n"
     ]
    }
   ],
   "source": [
    "p1=0.01\n",
    "p2=1/2\n",
    "n=100\n",
    "N=100000\n",
    "px=[]\n",
    "py=[]\n",
    "start=time()\n",
    "while p1<1:\n",
    "    x=0\n",
    "    s1 = rd.binomial(n,p1,N)\n",
    "    s2 = rd.binomial(n,p2,N)\n",
    "    for i in range(N):\n",
    "        if s1[i]==s2[i]:\n",
    "            x+=1\n",
    "    px.append(p1)\n",
    "    py.append(x)\n",
    "    p1+=0.01\n",
    "delay=time()-start\n",
    "plt.plot(px,py)\n",
    "plt.show()\n",
    "print(delay)"
   ]
  },
  {
   "cell_type": "markdown",
   "metadata": {},
   "source": [
    "이제 그래프의 형태는 이론과 비슷해졌지만 계산속도가 훨씬 느린 것을 확인 할 수 있다. 그렇다면 binomial 함수를 사용하는 이유는 무엇일까?"
   ]
  },
  {
   "cell_type": "markdown",
   "metadata": {},
   "source": [
    "걸음수를 조금더 증가시켜보자(100걸음에서 200걸음으로). 이때 직접 확률을 계산할 경우, 아래와 같은 오류가 발생한다."
   ]
  },
  {
   "cell_type": "code",
   "execution_count": 191,
   "metadata": {},
   "outputs": [
    {
     "ename": "OverflowError",
     "evalue": "int too large to convert to float",
     "output_type": "error",
     "traceback": [
      "\u001b[1;31m---------------------------------------------------------------------------\u001b[0m",
      "\u001b[1;31mOverflowError\u001b[0m                             Traceback (most recent call last)",
      "\u001b[1;32m<ipython-input-191-02f608b6ec3b>\u001b[0m in \u001b[0;36m<module>\u001b[1;34m()\u001b[0m\n\u001b[0;32m      7\u001b[0m     \u001b[0mx\u001b[0m\u001b[1;33m=\u001b[0m\u001b[1;36m0\u001b[0m\u001b[1;33m\u001b[0m\u001b[0m\n\u001b[0;32m      8\u001b[0m     \u001b[1;32mfor\u001b[0m \u001b[0mi\u001b[0m \u001b[1;32min\u001b[0m \u001b[0mrange\u001b[0m\u001b[1;33m(\u001b[0m\u001b[0mn\u001b[0m\u001b[1;33m)\u001b[0m\u001b[1;33m:\u001b[0m\u001b[1;33m\u001b[0m\u001b[0m\n\u001b[1;32m----> 9\u001b[1;33m         \u001b[0mx\u001b[0m\u001b[1;33m+=\u001b[0m\u001b[0mfactorial\u001b[0m\u001b[1;33m(\u001b[0m\u001b[0mn\u001b[0m\u001b[1;33m)\u001b[0m\u001b[1;33m/\u001b[0m\u001b[1;33m(\u001b[0m\u001b[0mfactorial\u001b[0m\u001b[1;33m(\u001b[0m\u001b[0mn\u001b[0m\u001b[1;33m-\u001b[0m\u001b[0mi\u001b[0m\u001b[1;33m)\u001b[0m\u001b[1;33m*\u001b[0m\u001b[0mfactorial\u001b[0m\u001b[1;33m(\u001b[0m\u001b[0mi\u001b[0m\u001b[1;33m)\u001b[0m\u001b[1;33m)\u001b[0m\u001b[1;33m*\u001b[0m\u001b[0mp1\u001b[0m\u001b[1;33m**\u001b[0m\u001b[0mi\u001b[0m\u001b[1;33m*\u001b[0m\u001b[1;33m(\u001b[0m\u001b[1;36m1\u001b[0m\u001b[1;33m-\u001b[0m\u001b[0mp1\u001b[0m\u001b[1;33m)\u001b[0m\u001b[1;33m**\u001b[0m\u001b[1;33m(\u001b[0m\u001b[0mn\u001b[0m\u001b[1;33m-\u001b[0m\u001b[0mi\u001b[0m\u001b[1;33m)\u001b[0m\u001b[1;33m*\u001b[0m\u001b[0mfactorial\u001b[0m\u001b[1;33m(\u001b[0m\u001b[0mn\u001b[0m\u001b[1;33m)\u001b[0m\u001b[1;33m/\u001b[0m\u001b[1;33m(\u001b[0m\u001b[0mfactorial\u001b[0m\u001b[1;33m(\u001b[0m\u001b[0mn\u001b[0m\u001b[1;33m-\u001b[0m\u001b[0mi\u001b[0m\u001b[1;33m)\u001b[0m\u001b[1;33m*\u001b[0m\u001b[0mfactorial\u001b[0m\u001b[1;33m(\u001b[0m\u001b[0mi\u001b[0m\u001b[1;33m)\u001b[0m\u001b[1;33m)\u001b[0m\u001b[1;33m*\u001b[0m\u001b[0mp2\u001b[0m\u001b[1;33m**\u001b[0m\u001b[0mi\u001b[0m\u001b[1;33m*\u001b[0m\u001b[1;33m(\u001b[0m\u001b[1;36m1\u001b[0m\u001b[1;33m-\u001b[0m\u001b[0mp2\u001b[0m\u001b[1;33m)\u001b[0m\u001b[1;33m**\u001b[0m\u001b[1;33m(\u001b[0m\u001b[0mn\u001b[0m\u001b[1;33m-\u001b[0m\u001b[0mi\u001b[0m\u001b[1;33m)\u001b[0m\u001b[1;33m\u001b[0m\u001b[0m\n\u001b[0m\u001b[0;32m     10\u001b[0m     \u001b[0mppx\u001b[0m\u001b[1;33m.\u001b[0m\u001b[0mappend\u001b[0m\u001b[1;33m(\u001b[0m\u001b[0mp1\u001b[0m\u001b[1;33m)\u001b[0m\u001b[1;33m\u001b[0m\u001b[0m\n\u001b[0;32m     11\u001b[0m     \u001b[0mppy\u001b[0m\u001b[1;33m.\u001b[0m\u001b[0mappend\u001b[0m\u001b[1;33m(\u001b[0m\u001b[0mx\u001b[0m\u001b[1;33m)\u001b[0m\u001b[1;33m\u001b[0m\u001b[0m\n",
      "\u001b[1;31mOverflowError\u001b[0m: int too large to convert to float"
     ]
    }
   ],
   "source": [
    "p1=0.01\n",
    "n=200\n",
    "ppx=[]\n",
    "ppy=[]\n",
    "start=time()\n",
    "while p1<1:\n",
    "    x=0\n",
    "    for i in range(n):\n",
    "        x+=factorial(n)/(factorial(n-i)*factorial(i))*p1**i*(1-p1)**(n-i)*factorial(n)/(factorial(n-i)*factorial(i))*p2**i*(1-p2)**(n-i)\n",
    "    ppx.append(p1)\n",
    "    ppy.append(x)\n",
    "    p1+=0.01\n",
    "delay=time()-start\n",
    "plt.plot(ppx,ppy,\"r\")\n",
    "plt.show()\n",
    "print(delay)"
   ]
  },
  {
   "cell_type": "markdown",
   "metadata": {},
   "source": [
    "이 오류는 계산 결과가 너무 커서 발생한 것이다. 이는 팩토리얼와 같이 그 값이 무척이나 급격하게 변하는 요소을 포함하는 함수에서 발생하기 쉽다. 이에 비해서 직접 Binomial 함수를 통해 구한 경우 아래와 같이 깔끔한 결과를 얻을 수 있다."
   ]
  },
  {
   "cell_type": "code",
   "execution_count": 192,
   "metadata": {},
   "outputs": [
    {
     "data": {
      "image/png": "[encoded data removed]",
      "text/plain": [
       "<Figure size 432x288 with 1 Axes>"
      ]
     },
     "metadata": {},
     "output_type": "display_data"
    },
    {
     "name": "stdout",
     "output_type": "stream",
     "text": [
      "17.283072471618652\n"
     ]
    }
   ],
   "source": [
    "p1=0.01\n",
    "p2=1/2\n",
    "n=200\n",
    "N=100000\n",
    "px=[]\n",
    "py=[]\n",
    "start=time()\n",
    "while p1<1:\n",
    "    x=0\n",
    "    s1 = rd.binomial(n,p1,N)\n",
    "    s2 = rd.binomial(n,p2,N)\n",
    "    for i in range(N):\n",
    "        if s1[i]==s2[i]:\n",
    "            x+=1\n",
    "    px.append(p1)\n",
    "    py.append(x)\n",
    "    p1+=0.01\n",
    "delay=time()-start\n",
    "plt.plot(px,py)\n",
    "plt.show()\n",
    "print(delay)"
   ]
  },
  {
   "cell_type": "code",
   "execution_count": null,
   "metadata": {},
   "outputs": [],
   "source": []
  }
 ],
 "metadata": {
  "kernelspec": {
   "display_name": "Python 3",
   "language": "python",
   "name": "python3"
  },
  "language_info": {
   "codemirror_mode": {
    "name": "ipython",
    "version": 3
   },
   "file_extension": ".py",
   "mimetype": "text/x-python",
   "name": "python",
   "nbconvert_exporter": "python",
   "pygments_lexer": "ipython3",
   "version": "3.6.5"
  }
 },
 "nbformat": 4,
 "nbformat_minor": 2
}
